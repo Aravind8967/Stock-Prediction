{
 "cells": [
  {
   "cell_type": "code",
   "execution_count": 15,
   "metadata": {},
   "outputs": [],
   "source": [
    "from src import PredictValues, SharePricePrediction\n",
    "import pandas as pd\n",
    "import json"
   ]
  },
  {
   "cell_type": "code",
   "execution_count": 16,
   "metadata": {},
   "outputs": [
    {
     "name": "stderr",
     "output_type": "stream",
     "text": [
      "WARNING - (py.warnings._showwarnmsg) - c:\\Users\\Aravind\\AppData\\Local\\Programs\\Python\\Python39\\lib\\site-packages\\pandas\\core\\dtypes\\cast.py:1056: RuntimeWarning: invalid value encountered in cast\n",
      "  if (arr.astype(int) == arr).all():\n",
      "\n",
      "WARNING - (py.warnings._showwarnmsg) - c:\\Users\\Aravind\\AppData\\Local\\Programs\\Python\\Python39\\lib\\site-packages\\pandas\\core\\dtypes\\cast.py:1080: RuntimeWarning: invalid value encountered in cast\n",
      "  if (arr.astype(int) == arr).all():\n",
      "\n",
      "INFO - (NP.utils.configure_trainer) - Using accelerator cpu with 1 device(s).\n"
     ]
    },
    {
     "data": {
      "application/vnd.jupyter.widget-view+json": {
       "model_id": "c833c37c591b4c7b9a1258df1bd01b80",
       "version_major": 2,
       "version_minor": 0
      },
      "text/plain": [
       "Training: |          | 0/? [00:00<?, ?it/s]"
      ]
     },
     "metadata": {},
     "output_type": "display_data"
    },
    {
     "name": "stderr",
     "output_type": "stream",
     "text": [
      "INFO - (NP.utils.configure_trainer) - Using accelerator cpu with 1 device(s).\n"
     ]
    },
    {
     "data": {
      "application/vnd.jupyter.widget-view+json": {
       "model_id": "d109831d657240fd852c3de6327f9686",
       "version_major": 2,
       "version_minor": 0
      },
      "text/plain": [
       "Training: |          | 0/? [00:00<?, ?it/s]"
      ]
     },
     "metadata": {},
     "output_type": "display_data"
    },
    {
     "name": "stderr",
     "output_type": "stream",
     "text": [
      "WARNING - (py.warnings._showwarnmsg) - c:\\Users\\Aravind\\AppData\\Local\\Programs\\Python\\Python39\\lib\\site-packages\\neuralprophet\\df_utils.py:1152: FutureWarning: Series.view is deprecated and will be removed in a future version. Use ``astype`` as an alternative to change the dtype.\n",
      "  converted_ds = pd.to_datetime(ds_col, utc=True).view(dtype=np.int64)\n",
      "\n",
      "INFO - (NP.df_utils._infer_frequency) - Major frequency YS corresponds to 92.308% of the data.\n",
      "WARNING - (py.warnings._showwarnmsg) - c:\\Users\\Aravind\\AppData\\Local\\Programs\\Python\\Python39\\lib\\site-packages\\neuralprophet\\df_utils.py:1152: FutureWarning: Series.view is deprecated and will be removed in a future version. Use ``astype`` as an alternative to change the dtype.\n",
      "  converted_ds = pd.to_datetime(ds_col, utc=True).view(dtype=np.int64)\n",
      "\n",
      "WARNING - (py.warnings._showwarnmsg) - c:\\Users\\Aravind\\AppData\\Local\\Programs\\Python\\Python39\\lib\\site-packages\\neuralprophet\\df_utils.py:1152: FutureWarning: Series.view is deprecated and will be removed in a future version. Use ``astype`` as an alternative to change the dtype.\n",
      "  converted_ds = pd.to_datetime(ds_col, utc=True).view(dtype=np.int64)\n",
      "\n",
      "INFO - (NP.df_utils._infer_frequency) - Defined frequency is equal to major frequency - YS\n",
      "WARNING - (py.warnings._showwarnmsg) - c:\\Users\\Aravind\\AppData\\Local\\Programs\\Python\\Python39\\lib\\site-packages\\neuralprophet\\df_utils.py:1152: FutureWarning: Series.view is deprecated and will be removed in a future version. Use ``astype`` as an alternative to change the dtype.\n",
      "  converted_ds = pd.to_datetime(ds_col, utc=True).view(dtype=np.int64)\n",
      "\n",
      "INFO - (NP.df_utils._infer_frequency) - Major frequency YS corresponds to 80.0% of the data.\n",
      "WARNING - (py.warnings._showwarnmsg) - c:\\Users\\Aravind\\AppData\\Local\\Programs\\Python\\Python39\\lib\\site-packages\\neuralprophet\\df_utils.py:1152: FutureWarning: Series.view is deprecated and will be removed in a future version. Use ``astype`` as an alternative to change the dtype.\n",
      "  converted_ds = pd.to_datetime(ds_col, utc=True).view(dtype=np.int64)\n",
      "\n",
      "WARNING - (py.warnings._showwarnmsg) - c:\\Users\\Aravind\\AppData\\Local\\Programs\\Python\\Python39\\lib\\site-packages\\neuralprophet\\df_utils.py:1152: FutureWarning: Series.view is deprecated and will be removed in a future version. Use ``astype`` as an alternative to change the dtype.\n",
      "  converted_ds = pd.to_datetime(ds_col, utc=True).view(dtype=np.int64)\n",
      "\n",
      "INFO - (NP.df_utils._infer_frequency) - Defined frequency is equal to major frequency - YS\n",
      "WARNING - (py.warnings._showwarnmsg) - c:\\Users\\Aravind\\AppData\\Local\\Programs\\Python\\Python39\\lib\\site-packages\\neuralprophet\\df_utils.py:1152: FutureWarning: Series.view is deprecated and will be removed in a future version. Use ``astype`` as an alternative to change the dtype.\n",
      "  converted_ds = pd.to_datetime(ds_col, utc=True).view(dtype=np.int64)\n",
      "\n",
      "INFO - (NP.df_utils._infer_frequency) - Major frequency YS corresponds to 80.0% of the data.\n",
      "WARNING - (py.warnings._showwarnmsg) - c:\\Users\\Aravind\\AppData\\Local\\Programs\\Python\\Python39\\lib\\site-packages\\neuralprophet\\df_utils.py:1152: FutureWarning: Series.view is deprecated and will be removed in a future version. Use ``astype`` as an alternative to change the dtype.\n",
      "  converted_ds = pd.to_datetime(ds_col, utc=True).view(dtype=np.int64)\n",
      "\n",
      "WARNING - (py.warnings._showwarnmsg) - c:\\Users\\Aravind\\AppData\\Local\\Programs\\Python\\Python39\\lib\\site-packages\\neuralprophet\\df_utils.py:1152: FutureWarning: Series.view is deprecated and will be removed in a future version. Use ``astype`` as an alternative to change the dtype.\n",
      "  converted_ds = pd.to_datetime(ds_col, utc=True).view(dtype=np.int64)\n",
      "\n",
      "INFO - (NP.df_utils._infer_frequency) - Defined frequency is equal to major frequency - YS\n"
     ]
    },
    {
     "data": {
      "application/vnd.jupyter.widget-view+json": {
       "model_id": "59bc9ebc62b54b14bd8aefc091e66bbc",
       "version_major": 2,
       "version_minor": 0
      },
      "text/plain": [
       "Predicting: |          | 0/? [00:00<?, ?it/s]"
      ]
     },
     "metadata": {},
     "output_type": "display_data"
    },
    {
     "name": "stderr",
     "output_type": "stream",
     "text": [
      "WARNING - (py.warnings._showwarnmsg) - c:\\Users\\Aravind\\AppData\\Local\\Programs\\Python\\Python39\\lib\\site-packages\\neuralprophet\\df_utils.py:1152: FutureWarning: Series.view is deprecated and will be removed in a future version. Use ``astype`` as an alternative to change the dtype.\n",
      "  converted_ds = pd.to_datetime(ds_col, utc=True).view(dtype=np.int64)\n",
      "\n",
      "INFO - (NP.df_utils._infer_frequency) - Major frequency YS corresponds to 92.308% of the data.\n",
      "WARNING - (py.warnings._showwarnmsg) - c:\\Users\\Aravind\\AppData\\Local\\Programs\\Python\\Python39\\lib\\site-packages\\neuralprophet\\df_utils.py:1152: FutureWarning: Series.view is deprecated and will be removed in a future version. Use ``astype`` as an alternative to change the dtype.\n",
      "  converted_ds = pd.to_datetime(ds_col, utc=True).view(dtype=np.int64)\n",
      "\n",
      "WARNING - (py.warnings._showwarnmsg) - c:\\Users\\Aravind\\AppData\\Local\\Programs\\Python\\Python39\\lib\\site-packages\\neuralprophet\\df_utils.py:1152: FutureWarning: Series.view is deprecated and will be removed in a future version. Use ``astype`` as an alternative to change the dtype.\n",
      "  converted_ds = pd.to_datetime(ds_col, utc=True).view(dtype=np.int64)\n",
      "\n",
      "INFO - (NP.df_utils._infer_frequency) - Defined frequency is equal to major frequency - YS\n",
      "WARNING - (py.warnings._showwarnmsg) - c:\\Users\\Aravind\\AppData\\Local\\Programs\\Python\\Python39\\lib\\site-packages\\neuralprophet\\df_utils.py:1152: FutureWarning: Series.view is deprecated and will be removed in a future version. Use ``astype`` as an alternative to change the dtype.\n",
      "  converted_ds = pd.to_datetime(ds_col, utc=True).view(dtype=np.int64)\n",
      "\n",
      "INFO - (NP.df_utils._infer_frequency) - Major frequency YS corresponds to 80.0% of the data.\n",
      "WARNING - (py.warnings._showwarnmsg) - c:\\Users\\Aravind\\AppData\\Local\\Programs\\Python\\Python39\\lib\\site-packages\\neuralprophet\\df_utils.py:1152: FutureWarning: Series.view is deprecated and will be removed in a future version. Use ``astype`` as an alternative to change the dtype.\n",
      "  converted_ds = pd.to_datetime(ds_col, utc=True).view(dtype=np.int64)\n",
      "\n",
      "WARNING - (py.warnings._showwarnmsg) - c:\\Users\\Aravind\\AppData\\Local\\Programs\\Python\\Python39\\lib\\site-packages\\neuralprophet\\df_utils.py:1152: FutureWarning: Series.view is deprecated and will be removed in a future version. Use ``astype`` as an alternative to change the dtype.\n",
      "  converted_ds = pd.to_datetime(ds_col, utc=True).view(dtype=np.int64)\n",
      "\n",
      "INFO - (NP.df_utils._infer_frequency) - Defined frequency is equal to major frequency - YS\n",
      "WARNING - (py.warnings._showwarnmsg) - c:\\Users\\Aravind\\AppData\\Local\\Programs\\Python\\Python39\\lib\\site-packages\\neuralprophet\\df_utils.py:1152: FutureWarning: Series.view is deprecated and will be removed in a future version. Use ``astype`` as an alternative to change the dtype.\n",
      "  converted_ds = pd.to_datetime(ds_col, utc=True).view(dtype=np.int64)\n",
      "\n",
      "INFO - (NP.df_utils._infer_frequency) - Major frequency YS corresponds to 80.0% of the data.\n",
      "WARNING - (py.warnings._showwarnmsg) - c:\\Users\\Aravind\\AppData\\Local\\Programs\\Python\\Python39\\lib\\site-packages\\neuralprophet\\df_utils.py:1152: FutureWarning: Series.view is deprecated and will be removed in a future version. Use ``astype`` as an alternative to change the dtype.\n",
      "  converted_ds = pd.to_datetime(ds_col, utc=True).view(dtype=np.int64)\n",
      "\n",
      "WARNING - (py.warnings._showwarnmsg) - c:\\Users\\Aravind\\AppData\\Local\\Programs\\Python\\Python39\\lib\\site-packages\\neuralprophet\\df_utils.py:1152: FutureWarning: Series.view is deprecated and will be removed in a future version. Use ``astype`` as an alternative to change the dtype.\n",
      "  converted_ds = pd.to_datetime(ds_col, utc=True).view(dtype=np.int64)\n",
      "\n",
      "INFO - (NP.df_utils._infer_frequency) - Defined frequency is equal to major frequency - YS\n"
     ]
    },
    {
     "data": {
      "application/vnd.jupyter.widget-view+json": {
       "model_id": "28d21fb99c0747c9aa6e517acf54278e",
       "version_major": 2,
       "version_minor": 0
      },
      "text/plain": [
       "Predicting: |          | 0/? [00:00<?, ?it/s]"
      ]
     },
     "metadata": {},
     "output_type": "display_data"
    }
   ],
   "source": [
    "c_name = 'ITC'\n",
    "values = PredictValues(c_name)\n",
    "\n",
    "future_values = values.getFutureValues()"
   ]
  },
  {
   "cell_type": "code",
   "execution_count": 17,
   "metadata": {},
   "outputs": [
    {
     "name": "stdout",
     "output_type": "stream",
     "text": [
      "years  :  [2012, 2013, 2014, 2015, 2016, 2017, 2018, 2019, 2020, 2021, 2022, 2023, 2024]\n",
      "years  :  <class 'list'>\n",
      "revenue  :  [16517.97, 20272.51, 23702.62, 23726.32, 29119.31, 34046.3, 34080.35, 41826.81, 48903.91, 48952.81, 60081.36, 70245.22, 70315.49]\n",
      "revenue  :  <class 'list'>\n",
      "income  :  [3503.42, 4057.66, 5109.0, 5446.19, 6307.78, 7942.13, 8466.31, 9805.68, 12346.33, 13161.19, 15242.66, 19191.66, 20458.78]\n",
      "income  :  <class 'list'>\n",
      "eps  :  [2.8, 3.24, 4.08, 4.35, 5.04, 6.35, 6.77, 7.84, 9.87, 10.52, 12.18, 15.34, 16.35]\n",
      "eps  :  <class 'list'>\n",
      "pe  :  26\n",
      "pe  :  <class 'int'>\n",
      "roe  :  [5.07, 5.87, 7.39, 7.88, 9.12, 11.48, 12.24, 14.18, 17.85, 19.03, 22.04, 27.75, 29.58]\n",
      "roe  :  <class 'list'>\n",
      "operating_expence  :  [13116.52, 14439.47, 16888.0, 18196.92]\n",
      "operating_expence  :  <class 'list'>\n",
      "profit_margin  :  [21.21, 20.02, 21.55, 22.95, 21.66, 23.33, 24.84, 23.44, 25.25, 26.89, 25.37, 27.32, 29.1]\n",
      "profit_margin  :  <class 'list'>\n",
      "shareholders_equity  :  [60347.34, 62455.57, 69155.26, 74507.0]\n",
      "shareholders_equity  :  <class 'list'>\n",
      "outstanding_shares  :  1251.41\n",
      "outstanding_shares  :  <class 'float'>\n",
      "future_years  :  [2025, 2026, 2027, 2028, 2029]\n",
      "future_years  :  <class 'list'>\n",
      "future_revenue  :  [86949.77, 95868.65, 104779.35, 113680.37, 124049.4]\n",
      "future_revenue  :  <class 'list'>\n",
      "future_income  :  [22902.56, 25922.01, 28939.65, 31956.28, 34421.17]\n",
      "future_income  :  <class 'list'>\n",
      "future_eps  :  [18.3, 20.71, 23.13, 25.54, 27.51]\n",
      "future_eps  :  <class 'list'>\n",
      "future_roe  :  [33.12, 37.48, 41.85, 46.21, 49.77]\n",
      "future_roe  :  <class 'list'>\n",
      "future_opm  :  [26.34, 27.04, 27.62, 28.11, 27.75]\n",
      "future_opm  :  <class 'list'>\n"
     ]
    }
   ],
   "source": [
    "for val in future_values:\n",
    "    print(f'{val}  :  {future_values[val]}')\n",
    "    print(f'{val}  :  {type(future_values[val])}')"
   ]
  }
 ],
 "metadata": {
  "kernelspec": {
   "display_name": "Python 3",
   "language": "python",
   "name": "python3"
  },
  "language_info": {
   "codemirror_mode": {
    "name": "ipython",
    "version": 3
   },
   "file_extension": ".py",
   "mimetype": "text/x-python",
   "name": "python",
   "nbconvert_exporter": "python",
   "pygments_lexer": "ipython3",
   "version": "3.9.13"
  }
 },
 "nbformat": 4,
 "nbformat_minor": 2
}
