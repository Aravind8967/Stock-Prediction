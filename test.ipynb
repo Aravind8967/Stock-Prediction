{
 "cells": [
  {
   "cell_type": "code",
   "execution_count": 1,
   "metadata": {},
   "outputs": [],
   "source": [
    "import datetime"
   ]
  },
  {
   "cell_type": "code",
   "execution_count": 2,
   "metadata": {},
   "outputs": [],
   "source": [
    "def getNextTargetDate(dataframe, current_date, days_ahead=7):\n",
    "    next_week = dataframe.loc[current_date:current_date + datetime.timedelta(days=days_ahead)]\n",
    "    next_datetime_str = str(next_week.head(2).tail(1).index.values[0])\n",
    "    next_date_str = next_datetime_str.split('T')[0]\n",
    "    next_date = datetime.datetime.strptime(next_date_str, '%Y-%m-%d')\n",
    "    return next_date"
   ]
  },
  {
   "cell_type": "code",
   "execution_count": 4,
   "metadata": {},
   "outputs": [
    {
     "name": "stdout",
     "output_type": "stream",
     "text": [
      "2025-03-21 00:00:00\n"
     ]
    }
   ],
   "source": [
    "def str_to_datetime(date_str):\n",
    "    year, month, day = map(int, date_str.split('-'))\n",
    "    return datetime.datetime(year=year, month=month, day=day)\n",
    "\n",
    "print(str_to_datetime('2025-03-21'))"
   ]
  },
  {
   "cell_type": "code",
   "execution_count": null,
   "metadata": {},
   "outputs": [],
   "source": [
    "def window_df(first_date, last_date,n=3):\n",
    "    first_date = str_to_datetime(first_date)\n",
    "    last_date = str_to_datetime(last_date)\n",
    "\n",
    "    target_date = first_date\n",
    "\n",
    "    last_time = False\n",
    "    while True:\n",
    "        next_date = getNextTargetDate\n",
    "\n",
    "    return first_date > last_date"
   ]
  },
  {
   "cell_type": "code",
   "execution_count": 10,
   "metadata": {},
   "outputs": [
    {
     "name": "stdout",
     "output_type": "stream",
     "text": [
      "False\n"
     ]
    }
   ],
   "source": [
    "print(window_df('2023-02-03', '2025-03-22'))"
   ]
  }
 ],
 "metadata": {
  "kernelspec": {
   "display_name": "Python 3",
   "language": "python",
   "name": "python3"
  },
  "language_info": {
   "codemirror_mode": {
    "name": "ipython",
    "version": 3
   },
   "file_extension": ".py",
   "mimetype": "text/x-python",
   "name": "python",
   "nbconvert_exporter": "python",
   "pygments_lexer": "ipython3",
   "version": "3.9.11"
  }
 },
 "nbformat": 4,
 "nbformat_minor": 2
}
