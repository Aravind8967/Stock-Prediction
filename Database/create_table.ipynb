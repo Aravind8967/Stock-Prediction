{
 "cells": [
  {
   "cell_type": "code",
   "execution_count": 1,
   "metadata": {},
   "outputs": [],
   "source": [
    "import json\n",
    "\n",
    "# Load JSON data from a file\n",
    "with open('companies_list.json') as f:\n",
    "    companies = json.load(f)\n",
    "\n",
    "# Open an SQL file to write insert statements\n",
    "with open('init.sql', 'w') as sql_file:\n",
    "    sql_file.write(\"CREATE DATABASE IF NOT EXISTS mydatabase;\\n\")\n",
    "    sql_file.write(\"USE mydatabase;\\n\")\n",
    "    sql_file.write(\"\"\"\n",
    "CREATE TABLE IF NOT EXISTS companies (\n",
    "    c_id INT PRIMARY KEY,\n",
    "    c_symbol VARCHAR(50),\n",
    "    c_name VARCHAR(255),\n",
    "    marketcap BIGINT\n",
    ");\n",
    "\"\"\")\n",
    "    for company in companies:\n",
    "        sql_file.write(\n",
    "            \"INSERT INTO companies (c_id, c_symbol, c_name, marketcap) VALUES ({}, '{}', '{}', {});\\n\".format(\n",
    "                company['c_id'],\n",
    "                company['c_symbol'],\n",
    "                company['c_name'].replace(\"'\", \"''\"),\n",
    "                company['marketcap']\n",
    "            )\n",
    "        )\n"
   ]
  }
 ],
 "metadata": {
  "kernelspec": {
   "display_name": "Python 3",
   "language": "python",
   "name": "python3"
  },
  "language_info": {
   "codemirror_mode": {
    "name": "ipython",
    "version": 3
   },
   "file_extension": ".py",
   "mimetype": "text/x-python",
   "name": "python",
   "nbconvert_exporter": "python",
   "pygments_lexer": "ipython3",
   "version": "3.9.13"
  }
 },
 "nbformat": 4,
 "nbformat_minor": 2
}
